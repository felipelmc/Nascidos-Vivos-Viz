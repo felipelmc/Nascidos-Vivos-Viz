{
 "cells": [
  {
   "cell_type": "code",
   "execution_count": 1,
   "metadata": {},
   "outputs": [],
   "source": [
    "import basedosdados as bd\n",
    "import geopandas as gpd\n",
    "from shapely import wkt"
   ]
  },
  {
   "cell_type": "code",
   "execution_count": 2,
   "metadata": {},
   "outputs": [
    {
     "name": "stderr",
     "output_type": "stream",
     "text": [
      "Downloading: 100%|██████████| 5137387/5137387 [08:49<00:00, 9710.56rows/s] \n"
     ]
    }
   ],
   "source": [
    "# dados de Nascidos Vivos\n",
    "\n",
    "query = \"\"\"\n",
    "SELECT ano, id_municipio_nascimento, data_nascimento, hora_nascimento, sexo, \n",
    "       peso, apgar1, apgar5, idade_mae, tipo_parto\n",
    "FROM basedosdados.br_ms_sinasc.microdados\n",
    "WHERE (ano BETWEEN 1998 AND 2020) AND (sigla_uf = 'RJ')\n",
    "\"\"\"\n",
    "\n",
    "df = bd.read_sql(query, billing_project_id=\"nascidosvivos\")"
   ]
  },
  {
   "cell_type": "code",
   "execution_count": 3,
   "metadata": {},
   "outputs": [],
   "source": [
    "df.to_csv('df.csv', index=True)"
   ]
  },
  {
   "cell_type": "code",
   "execution_count": 4,
   "metadata": {},
   "outputs": [
    {
     "name": "stderr",
     "output_type": "stream",
     "text": [
      "Downloading: 100%|██████████| 92/92 [00:01<00:00, 64.71rows/s]\n"
     ]
    }
   ],
   "source": [
    "# dados das cidades do estado do Rio de Janeiro\n",
    "\n",
    "query = \"\"\"\n",
    "SELECT DISTINCT M.id_municipio, SC.nome_municipio, M.geometria\n",
    "FROM basedosdados.br_geobr_mapas.municipio M\n",
    "INNER JOIN basedosdados.br_geobr_mapas.setor_censitario_2010 SC\n",
    "ON M.id_municipio = SC.id_municipio\n",
    "WHERE SC.sigla_uf = 'RJ'\n",
    "\"\"\"\n",
    "\n",
    "cidades = bd.read_sql(query, billing_project_id=\"nascidosvivos\")"
   ]
  },
  {
   "cell_type": "code",
   "execution_count": 5,
   "metadata": {},
   "outputs": [],
   "source": [
    "cidades['geometria'] = cidades['geometria'].apply(wkt.loads)\n",
    "cidades = gpd.GeoDataFrame(cidades, geometry='geometria')\n",
    "\n",
    "cidades['id_municipio'] = cidades['id_municipio'].astype(int)\n",
    "cidades['id_municipio'] = cidades['id_municipio'].astype(str)\n",
    "\n",
    "cidades.to_file('../Nascidos-Vivos-Viz/cidades.geojson', driver='GeoJSON')\n",
    "cidades.to_csv('cidades.csv', index=True)"
   ]
  }
 ],
 "metadata": {
  "kernelspec": {
   "display_name": "Python 3",
   "language": "python",
   "name": "python3"
  },
  "language_info": {
   "codemirror_mode": {
    "name": "ipython",
    "version": 3
   },
   "file_extension": ".py",
   "mimetype": "text/x-python",
   "name": "python",
   "nbconvert_exporter": "python",
   "pygments_lexer": "ipython3",
   "version": "3.10.6"
  },
  "orig_nbformat": 4
 },
 "nbformat": 4,
 "nbformat_minor": 2
}
