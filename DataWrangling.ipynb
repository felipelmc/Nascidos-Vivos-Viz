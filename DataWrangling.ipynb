{
 "cells": [
  {
   "cell_type": "code",
   "execution_count": 21,
   "metadata": {},
   "outputs": [],
   "source": [
    "import pandas as pd\n",
    "import warnings\n",
    "\n",
    "warnings.filterwarnings('ignore')"
   ]
  },
  {
   "cell_type": "code",
   "execution_count": 22,
   "metadata": {},
   "outputs": [],
   "source": [
    "df = pd.read_csv('df.csv', index_col=0)\n",
    "cidades = pd.read_csv('cidades.csv', index_col=0)"
   ]
  },
  {
   "cell_type": "code",
   "execution_count": 23,
   "metadata": {},
   "outputs": [],
   "source": [
    "df.rename(columns={'id_municipio_nascimento': 'id_municipio'}, inplace=True)"
   ]
  },
  {
   "cell_type": "code",
   "execution_count": 24,
   "metadata": {},
   "outputs": [],
   "source": [
    "idMunicipios = cidades['id_municipio'].to_list()\n",
    "flt = df['id_municipio'].isin(idMunicipios)\n",
    "df = df[flt]\n",
    "\n",
    "df['id_municipio'] = df['id_municipio'].astype('int')\n",
    "df['id_municipio'] = df['id_municipio'].astype('str')"
   ]
  },
  {
   "cell_type": "code",
   "execution_count": 25,
   "metadata": {},
   "outputs": [],
   "source": [
    "cidades['id_municipio'] = cidades['id_municipio'].astype(int)\n",
    "cidades['id_municipio'] = cidades['id_municipio'].astype(str)"
   ]
  },
  {
   "cell_type": "code",
   "execution_count": 26,
   "metadata": {},
   "outputs": [],
   "source": [
    "df = df.merge(cidades[['id_municipio', 'nome_municipio']], on='id_municipio', how='left')"
   ]
  },
  {
   "cell_type": "code",
   "execution_count": 27,
   "metadata": {},
   "outputs": [],
   "source": [
    "df = df.dropna(subset=['apgar1'])\n",
    "flt = df['apgar1'] > 10\n",
    "df = df[~flt]\n",
    "\n",
    "# replace values with more descriptive ones\n",
    "df = df.replace({'sexo': {1: 'Masculino', 2: 'Feminino', 'M': 'Masculino', 'F': 'Feminino'},\n",
    "                 'tipo_parto': {1: 'Vaginal', 2: 'Cesárea', 9: 'Ignorado'}})"
   ]
  },
  {
   "cell_type": "code",
   "execution_count": 28,
   "metadata": {},
   "outputs": [],
   "source": [
    "years = [1998, 1999, 2000, 2001, 2002, 2003, 2004,\n",
    "         2005, 2006, 2007, 2008, 2009, 2010, 2011,\n",
    "         2012, 2013, 2014, 2015, 2016, 2017, 2018,\n",
    "         2019, 2020]"
   ]
  },
  {
   "cell_type": "code",
   "execution_count": 29,
   "metadata": {},
   "outputs": [],
   "source": [
    "# do not remove missing values for hora_nascimento\n",
    "df_filtered = df.dropna(subset=['peso', 'apgar5', 'idade_mae', 'tipo_parto'])"
   ]
  },
  {
   "cell_type": "code",
   "execution_count": null,
   "metadata": {},
   "outputs": [],
   "source": [
    "for year in years:\n",
    "    \n",
    "    flt = df['ano'] == year\n",
    "    dfFiltered = df_filtered[flt]\n",
    "    dfFiltered.to_csv(f'../Nascidos-Vivos-Viz/general/general{year}.csv', index=False)\n",
    "    \n",
    "    apgarMean1 = dfFiltered.groupby(['id_municipio', 'nome_municipio', 'ano'])['apgar1'].mean().reset_index(name = 'meanApgar1')\n",
    "    apgarMean1['meanApgar1'] = apgarMean1['meanApgar1'].round(2)\n",
    "    apgarMean1.to_csv(f'../Nascidos-Vivos-Viz/mean/apgar1Mean{year}.csv', index=False)"
   ]
  },
  {
   "cell_type": "code",
   "execution_count": null,
   "metadata": {},
   "outputs": [],
   "source": [
    "apgarMean1 = df_filtered.groupby(['id_municipio', 'nome_municipio', 'ano'])['apgar1'].mean().reset_index(name = 'meanApgar1')\n",
    "pivot = pd.pivot_table(apgarMean1, index='id_municipio', columns = 'ano', values='meanApgar1').reset_index().round(2)\n",
    "pivot.to_csv('../Nascidos-Vivos-Viz/meanPivot/apgarMean1Pivoted.csv', index=False)"
   ]
  }
 ],
 "metadata": {
  "kernelspec": {
   "display_name": "Python 3",
   "language": "python",
   "name": "python3"
  },
  "language_info": {
   "codemirror_mode": {
    "name": "ipython",
    "version": 3
   },
   "file_extension": ".py",
   "mimetype": "text/x-python",
   "name": "python",
   "nbconvert_exporter": "python",
   "pygments_lexer": "ipython3",
   "version": "3.10.6"
  },
  "orig_nbformat": 4
 },
 "nbformat": 4,
 "nbformat_minor": 2
}
